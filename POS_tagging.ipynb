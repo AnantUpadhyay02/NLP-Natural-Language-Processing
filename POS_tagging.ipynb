{
 "cells": [
  {
   "cell_type": "code",
   "execution_count": 1,
   "metadata": {},
   "outputs": [
    {
     "name": "stderr",
     "output_type": "stream",
     "text": [
      "2023-10-29 21:02:11.683857: I tensorflow/core/platform/cpu_feature_guard.cc:182] This TensorFlow binary is optimized to use available CPU instructions in performance-critical operations.\n",
      "To enable the following instructions: AVX2 AVX512F AVX512_VNNI FMA, in other operations, rebuild TensorFlow with the appropriate compiler flags.\n"
     ]
    }
   ],
   "source": [
    "import spacy"
   ]
  },
  {
   "cell_type": "code",
   "execution_count": 2,
   "metadata": {},
   "outputs": [],
   "source": [
    "nlp = spacy.load(\"en_core_web_sm\")"
   ]
  },
  {
   "cell_type": "code",
   "execution_count": 5,
   "metadata": {},
   "outputs": [
    {
     "name": "stdout",
     "output_type": "stream",
     "text": [
      "Elon | PROPN | proper noun || NNP | noun, proper singular\n",
      "flew | VERB | verb || VBD | verb, past tense\n",
      "to | ADP | adposition || IN | conjunction, subordinating or preposition\n",
      "mars | NOUN | noun || NNS | noun, plural\n",
      "yesterday | NOUN | noun || NN | noun, singular or mass\n",
      ". | PUNCT | punctuation || . | punctuation mark, sentence closer\n",
      "He | PRON | pronoun || PRP | pronoun, personal\n",
      "carried | VERB | verb || VBD | verb, past tense\n",
      "chhole | ADJ | adjective || JJ | adjective (English), other noun-modifier (Chinese)\n",
      "bhature | NOUN | noun || NN | noun, singular or mass\n",
      "with | ADP | adposition || IN | conjunction, subordinating or preposition\n",
      "him | PRON | pronoun || PRP | pronoun, personal\n"
     ]
    }
   ],
   "source": [
    "doc = nlp(\"Elon flew to mars yesterday. He carried chhole bhature with him\")\n",
    "for token in doc:\n",
    "    print(token, \"|\", token.pos_,\"|\", spacy.explain(token.pos_),\"||\", token.tag_,\"|\", spacy.explain(token.tag_))"
   ]
  },
  {
   "cell_type": "code",
   "execution_count": 7,
   "metadata": {},
   "outputs": [],
   "source": [
    "text = \"\"\" Google has officially confirmed the existence of a bug in the Android 14 update. The tech giant has not only acknowledged the issue but has also said that it is looking into the bug that is causing problems for Pixel owners with multiple user profiles. Recently, a company representative confirmed the existence of the bug in Google Issue Tracker and said that the team is “working hard on a fix” for it.\n",
    "How is it affecting users?\n",
    "The issue was initially reported by Pixel 6 owners, who started facing the problems soon after Android14 was rolled out.\n",
    "\n",
    "             \"\"\""
   ]
  },
  {
   "cell_type": "code",
   "execution_count": 8,
   "metadata": {},
   "outputs": [
    {
     "name": "stdout",
     "output_type": "stream",
     "text": [
      "  | SPACE || _SP\n",
      "Google | PROPN || NNP\n",
      "has | AUX || VBZ\n",
      "officially | ADV || RB\n",
      "confirmed | VERB || VBN\n",
      "the | DET || DT\n",
      "existence | NOUN || NN\n",
      "of | ADP || IN\n",
      "a | DET || DT\n",
      "bug | NOUN || NN\n",
      "in | ADP || IN\n",
      "the | DET || DT\n",
      "Android | PROPN || NNP\n",
      "14 | NUM || CD\n",
      "update | NOUN || NN\n",
      ". | PUNCT || .\n",
      "The | DET || DT\n",
      "tech | NOUN || NN\n",
      "giant | NOUN || NN\n",
      "has | AUX || VBZ\n",
      "not | PART || RB\n",
      "only | ADV || RB\n",
      "acknowledged | VERB || VBD\n",
      "the | DET || DT\n",
      "issue | NOUN || NN\n",
      "but | CCONJ || CC\n",
      "has | AUX || VBZ\n",
      "also | ADV || RB\n",
      "said | VERB || VBN\n",
      "that | SCONJ || IN\n",
      "it | PRON || PRP\n",
      "is | AUX || VBZ\n",
      "looking | VERB || VBG\n",
      "into | ADP || IN\n",
      "the | DET || DT\n",
      "bug | NOUN || NN\n",
      "that | PRON || WDT\n",
      "is | AUX || VBZ\n",
      "causing | VERB || VBG\n",
      "problems | NOUN || NNS\n",
      "for | ADP || IN\n",
      "Pixel | PROPN || NNP\n",
      "owners | NOUN || NNS\n",
      "with | ADP || IN\n",
      "multiple | ADJ || JJ\n",
      "user | NOUN || NN\n",
      "profiles | NOUN || NNS\n",
      ". | PUNCT || .\n",
      "Recently | ADV || RB\n",
      ", | PUNCT || ,\n",
      "a | DET || DT\n",
      "company | NOUN || NN\n",
      "representative | NOUN || NN\n",
      "confirmed | VERB || VBD\n",
      "the | DET || DT\n",
      "existence | NOUN || NN\n",
      "of | ADP || IN\n",
      "the | DET || DT\n",
      "bug | NOUN || NN\n",
      "in | ADP || IN\n",
      "Google | PROPN || NNP\n",
      "Issue | PROPN || NNP\n",
      "Tracker | PROPN || NNP\n",
      "and | CCONJ || CC\n",
      "said | VERB || VBD\n",
      "that | SCONJ || IN\n",
      "the | DET || DT\n",
      "team | NOUN || NN\n",
      "is | AUX || VBZ\n",
      "“ | PUNCT || ``\n",
      "working | VERB || VBG\n",
      "hard | ADV || RB\n",
      "on | ADP || IN\n",
      "a | DET || DT\n",
      "fix | NOUN || NN\n",
      "” | PUNCT || ''\n",
      "for | ADP || IN\n",
      "it | PRON || PRP\n",
      ". | PUNCT || .\n",
      "\n",
      " | SPACE || _SP\n",
      "How | SCONJ || WRB\n",
      "is | AUX || VBZ\n",
      "it | PRON || PRP\n",
      "affecting | VERB || VBG\n",
      "users | NOUN || NNS\n",
      "? | PUNCT || .\n",
      "\n",
      " | SPACE || _SP\n",
      "The | DET || DT\n",
      "issue | NOUN || NN\n",
      "was | AUX || VBD\n",
      "initially | ADV || RB\n",
      "reported | VERB || VBN\n",
      "by | ADP || IN\n",
      "Pixel | PROPN || NNP\n",
      "6 | NUM || CD\n",
      "owners | NOUN || NNS\n",
      ", | PUNCT || ,\n",
      "who | PRON || WP\n",
      "started | VERB || VBD\n",
      "facing | VERB || VBG\n",
      "the | DET || DT\n",
      "problems | NOUN || NNS\n",
      "soon | ADV || RB\n",
      "after | SCONJ || IN\n",
      "Android14 | PROPN || NNP\n",
      "was | AUX || VBD\n",
      "rolled | VERB || VBN\n",
      "out | ADP || RP\n",
      ". | PUNCT || .\n",
      "\n",
      "\n",
      "              | SPACE || _SP\n"
     ]
    }
   ],
   "source": [
    "# to remove extra things from my text we can just add an extra condition\n",
    "\n",
    "doc = nlp(text)\n",
    "\n",
    "for token in doc:\n",
    "    print(token,\"|\",token.pos_,\"||\",token.tag_)\n"
   ]
  },
  {
   "cell_type": "code",
   "execution_count": 9,
   "metadata": {},
   "outputs": [],
   "source": [
    "#to remove extra things like spaces and punctuation\n",
    "\n",
    "filtered_token = []\n",
    "\n",
    "for token in doc:\n",
    "    if token.pos_ not in [\"SPACE\",\"X\",\"PUNCT\"]:\n",
    "        filtered_token.append(token)"
   ]
  },
  {
   "cell_type": "code",
   "execution_count": 11,
   "metadata": {},
   "outputs": [
    {
     "data": {
      "text/plain": [
       "[Google, has, officially, confirmed, the, existence, of, a, bug, in]"
      ]
     },
     "execution_count": 11,
     "metadata": {},
     "output_type": "execute_result"
    }
   ],
   "source": [
    "filtered_token[:10]"
   ]
  },
  {
   "cell_type": "code",
   "execution_count": 12,
   "metadata": {},
   "outputs": [
    {
     "data": {
      "text/plain": [
       "{103: 4,\n",
       " 96: 8,\n",
       " 87: 9,\n",
       " 86: 7,\n",
       " 100: 13,\n",
       " 90: 13,\n",
       " 92: 21,\n",
       " 85: 11,\n",
       " 93: 2,\n",
       " 97: 9,\n",
       " 94: 1,\n",
       " 89: 2,\n",
       " 98: 4,\n",
       " 95: 5,\n",
       " 84: 1}"
      ]
     },
     "execution_count": 12,
     "metadata": {},
     "output_type": "execute_result"
    }
   ],
   "source": [
    "count = doc.count_by(spacy.attrs.POS)\n",
    "count"
   ]
  },
  {
   "cell_type": "code",
   "execution_count": 13,
   "metadata": {},
   "outputs": [
    {
     "name": "stdout",
     "output_type": "stream",
     "text": [
      "SPACE || 4\n",
      "PROPN || 8\n",
      "AUX || 9\n",
      "ADV || 7\n",
      "VERB || 13\n",
      "DET || 13\n",
      "NOUN || 21\n",
      "ADP || 11\n",
      "NUM || 2\n",
      "PUNCT || 9\n",
      "PART || 1\n",
      "CCONJ || 2\n",
      "SCONJ || 4\n",
      "PRON || 5\n",
      "ADJ || 1\n"
     ]
    }
   ],
   "source": [
    "for k,v in count.items():\n",
    "    print(doc.vocab[k].text,\"||\", v)"
   ]
  },
  {
   "cell_type": "code",
   "execution_count": null,
   "metadata": {},
   "outputs": [],
   "source": []
  }
 ],
 "metadata": {
  "kernelspec": {
   "display_name": "Python 3",
   "language": "python",
   "name": "python3"
  },
  "language_info": {
   "codemirror_mode": {
    "name": "ipython",
    "version": 3
   },
   "file_extension": ".py",
   "mimetype": "text/x-python",
   "name": "python",
   "nbconvert_exporter": "python",
   "pygments_lexer": "ipython3",
   "version": "3.10.5"
  },
  "orig_nbformat": 2
 },
 "nbformat": 4,
 "nbformat_minor": 2
}
