{
 "cells": [
  {
   "cell_type": "code",
   "execution_count": 1,
   "metadata": {},
   "outputs": [
    {
     "name": "stderr",
     "output_type": "stream",
     "text": [
      "2023-10-29 21:02:11.683857: I tensorflow/core/platform/cpu_feature_guard.cc:182] This TensorFlow binary is optimized to use available CPU instructions in performance-critical operations.\n",
      "To enable the following instructions: AVX2 AVX512F AVX512_VNNI FMA, in other operations, rebuild TensorFlow with the appropriate compiler flags.\n"
     ]
    }
   ],
   "source": [
    "import spacy"
   ]
  },
  {
   "cell_type": "code",
   "execution_count": 2,
   "metadata": {},
   "outputs": [],
   "source": [
    "nlp = spacy.load(\"en_core_web_sm\")"
   ]
  },
  {
   "cell_type": "code",
   "execution_count": 5,
   "metadata": {},
   "outputs": [
    {
     "name": "stdout",
     "output_type": "stream",
     "text": [
      "Elon | PROPN | proper noun || NNP | noun, proper singular\n",
      "flew | VERB | verb || VBD | verb, past tense\n",
      "to | ADP | adposition || IN | conjunction, subordinating or preposition\n",
      "mars | NOUN | noun || NNS | noun, plural\n",
      "yesterday | NOUN | noun || NN | noun, singular or mass\n",
      ". | PUNCT | punctuation || . | punctuation mark, sentence closer\n",
      "He | PRON | pronoun || PRP | pronoun, personal\n",
      "carried | VERB | verb || VBD | verb, past tense\n",
      "chhole | ADJ | adjective || JJ | adjective (English), other noun-modifier (Chinese)\n",
      "bhature | NOUN | noun || NN | noun, singular or mass\n",
      "with | ADP | adposition || IN | conjunction, subordinating or preposition\n",
      "him | PRON | pronoun || PRP | pronoun, personal\n"
     ]
    }
   ],
   "source": [
    "doc = nlp(\"Elon flew to mars yesterday. He carried chhole bhature with him\")\n",
    "for token in doc:\n",
    "    print(token, \"|\", token.pos_,\"|\", spacy.explain(token.pos_),\"||\", token.tag_,\"|\", spacy.explain(token.tag_))"
   ]
  },
  {
   "cell_type": "code",
   "execution_count": null,
   "metadata": {},
   "outputs": [],
   "source": []
  }
 ],
 "metadata": {
  "kernelspec": {
   "display_name": "Python 3",
   "language": "python",
   "name": "python3"
  },
  "language_info": {
   "codemirror_mode": {
    "name": "ipython",
    "version": 3
   },
   "file_extension": ".py",
   "mimetype": "text/x-python",
   "name": "python",
   "nbconvert_exporter": "python",
   "pygments_lexer": "ipython3",
   "version": "3.10.5"
  },
  "orig_nbformat": 2
 },
 "nbformat": 4,
 "nbformat_minor": 2
}
